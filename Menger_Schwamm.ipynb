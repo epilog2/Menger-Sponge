{
 "cells": [
  {
   "cell_type": "markdown",
   "metadata": {},
   "source": [
    "### Importe"
   ]
  },
  {
   "cell_type": "code",
   "execution_count": 1,
   "metadata": {},
   "outputs": [],
   "source": [
    "import numpy as np\n",
    "import matplotlib.pyplot as plt\n",
    "from PIL import Image\n",
    "import math"
   ]
  },
  {
   "cell_type": "markdown",
   "metadata": {},
   "source": [
    "### 2D-Schwamm"
   ]
  },
  {
   "cell_type": "code",
   "execution_count": 77,
   "metadata": {},
   "outputs": [],
   "source": [
    "# Der z-te Pixel, der gefärbt wird (nur ungerade zahlen)\n",
    "z = 3\n",
    "# Fraktalschritte -> Maß für die Feineit des Fraktals\n",
    "n = 1\n",
    "# Pixelanzanl einer Seite\n",
    "pa = z**n #\n",
    "# Bildarray\n",
    "arr = np.zeros((pa,pa))\n",
    "\n",
    "\n",
    "for k in range(1,n+1):\n",
    "    for i1 in range(0,z**(k-1)):\n",
    "        # position intervall (lower and upper border)\n",
    "        I1 = int(pa/(z**k)*(math.ceil(z/2)+ z*i1)-pa/(z**k))\n",
    "        I2 = int(pa/(z**k)*(math.ceil(z/2)+ z*i1))\n",
    "        for i2 in range(0,z**(k-1)):\n",
    "            I3 = int(pa/(z**k)*(math.ceil(z/2)+ z*i2)-pa/(z**k))\n",
    "            I4 = int(pa/(z**k)*(math.ceil(z/2)+ z*i2))\n",
    "            arr[I1:I2,I3:I4] = 255"
   ]
  },
  {
   "cell_type": "code",
   "execution_count": 78,
   "metadata": {},
   "outputs": [
    {
     "data": {
      "text/plain": [
       "<matplotlib.image.AxesImage at 0x21dac02bf40>"
      ]
     },
     "execution_count": 78,
     "metadata": {},
     "output_type": "execute_result"
    },
    {
     "data": {
      "image/png": "[encoded data removed]",
      "text/plain": [
       "<Figure size 720x720 with 1 Axes>"
      ]
     },
     "metadata": {
      "needs_background": "light"
     },
     "output_type": "display_data"
    }
   ],
   "source": [
    "%matplotlib inline\n",
    "img = Image.fromarray(arr) # convert array (value range [0,1]) into an image with the value range [0,255] \n",
    "plt.figure(figsize = (10,10))\n",
    "plt.imshow(img)"
   ]
  },
  {
   "cell_type": "markdown",
   "metadata": {},
   "source": [
    "### 3D-Schwamm"
   ]
  },
  {
   "cell_type": "code",
   "execution_count": 104,
   "metadata": {},
   "outputs": [],
   "source": [
    "# Der z-te Pixel, der gefärbt wird (nur ungerade zahlen)\n",
    "z = 3\n",
    "# Fraktalschritte -> Maß für die Feineit des Fraktals\n",
    "n = 4\n",
    "# Pixelanzanl einer Seite\n",
    "pa = z**n #\n",
    "# Bildarray\n",
    "arr = np.ones((pa,pa,pa), dtype = bool)\n",
    "\n",
    "\n",
    "for k in range(1,n+1):\n",
    "    for i1 in range(0,z**(k-1)):\n",
    "        # position intervall (lower and upper border)\n",
    "        I1 = int(pa/(z**k)*(math.ceil(z/2)+ z*i1)-pa/(z**k))\n",
    "        I2 = int(pa/(z**k)*(math.ceil(z/2)+ z*i1))\n",
    "        for i2 in range(0,z**(k-1)):\n",
    "            I3 = int(pa/(z**k)*(math.ceil(z/2)+ z*i2)-pa/(z**k))\n",
    "            I4 = int(pa/(z**k)*(math.ceil(z/2)+ z*i2))\n",
    "            # transferring positions according to the axesareas (x,y),(x,z) and (y,z)\n",
    "            arr[:,I1:I2,I3:I4] = False  # (y,z)\n",
    "            arr[I1:I2,:,I3:I4] = False  # (x,z)\n",
    "            arr[I1:I2,I3:I4,:] = False  # (x,z)"
   ]
  },
  {
   "cell_type": "code",
   "execution_count": 105,
   "metadata": {},
   "outputs": [],
   "source": [
    "# Die Position des Würfelblockes bestimmt seine Farbe. \n",
    "def cube_colormap(pa):\n",
    "    e = np.arange(0,pa)[::-1]/(pa-1)\n",
    "    # x-plane colormap (Muster der x- Farbkoordinaten)\n",
    "    x = np.tile(e,(pa,1))\n",
    "    # x-plane-cube colormap\n",
    "    x_c = np.tile(x,(pa,1,1))\n",
    "    # y-plane colormap (Muster der y- Farbkoordinaten)\n",
    "    y = x.T\n",
    "    # y-plane-cube colormap\n",
    "    y_c =  np.tile(y,(pa,1,1))\n",
    "    # z-plane colormap\n",
    "    z = np.full((pa,pa),0)\n",
    "    # z-plane-cube colormap (Muster der z- Farbkoordinaten)\n",
    "    for i in range(1,pa):\n",
    "        k = np.full((pa,pa),i/pa)\n",
    "        z = np.dstack((z,k))\n",
    "    z_c = z.T\n",
    "    return x_c,y_c,z_c"
   ]
  },
  {
   "cell_type": "code",
   "execution_count": 106,
   "metadata": {},
   "outputs": [],
   "source": [
    "# Erstellung des \"Farbwürfels\"\n",
    "x,y,z = cube_colormap(pa)\n",
    "#print(x)\n",
    "#print(y)\n",
    "#print(z)"
   ]
  },
  {
   "cell_type": "code",
   "execution_count": 107,
   "metadata": {},
   "outputs": [
    {
     "name": "stdout",
     "output_type": "stream",
     "text": [
      "Using matplotlib backend: Qt5Agg\n"
     ]
    }
   ],
   "source": [
    "%matplotlib inline\n",
    "# Combination des Farbwürfels mit dem berechneten Mengerschwamm.\n",
    "colors = np.zeros((pa,pa,pa) + (3,))\n",
    "colors[..., 0] = x\n",
    "colors[..., 1] = y\n",
    "colors[..., 2] = z\n",
    "\n",
    "ax = plt.figure(figsize = (10,10)).add_subplot(projection='3d')\n",
    "ax.voxels(arr, facecolors = colors, edgecolors = np.clip(2.5*colors - 0.5, 0, 1))\n",
    "ax.set_axis_off()\n",
    "plt.show()"
   ]
  },
  {
   "cell_type": "code",
   "execution_count": 101,
   "metadata": {},
   "outputs": [],
   "source": []
  },
  {
   "cell_type": "code",
   "execution_count": null,
   "metadata": {},
   "outputs": [],
   "source": []
  },
  {
   "cell_type": "code",
   "execution_count": null,
   "metadata": {},
   "outputs": [],
   "source": []
  }
 ],
 "metadata": {
  "kernelspec": {
   "display_name": "Python 3",
   "language": "python",
   "name": "python3"
  },
  "language_info": {
   "codemirror_mode": {
    "name": "ipython",
    "version": 3
   },
   "file_extension": ".py",
   "mimetype": "text/x-python",
   "name": "python",
   "nbconvert_exporter": "python",
   "pygments_lexer": "ipython3",
   "version": "3.8.5"
  }
 },
 "nbformat": 4,
 "nbformat_minor": 4
}
